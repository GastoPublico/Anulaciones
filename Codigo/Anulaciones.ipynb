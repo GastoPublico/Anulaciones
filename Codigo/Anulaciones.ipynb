{
 "cells": [
  {
   "cell_type": "markdown",
   "metadata": {},
   "source": [
    "<img src=\"https://media-exp1.licdn.com/dms/image/C560BAQHgXkBxAhPV2Q/company-logo_200_200/0?e=2159024400&v=beta&t=1tsomaFfzFF5LcVhqwqP3sJtGMb8qC_cDGzF5BC6tfg\" width=\"60\" align = \"left\" alt=\"MEF logo\"  />\n",
    "\n",
    "#### <font color='grb({0},{192},{0)'>$$\\large\\text{Anulaciones}$$</font>\n",
    "\n",
    "#### Equipo de Gasto público - DGPMAC"
   ]
  },
  {
   "cell_type": "code",
   "execution_count": 1,
   "metadata": {
    "collapsed": true
   },
   "outputs": [
    {
     "name": "stdout",
     "output_type": "stream",
     "text": [
      "Requirement already satisfied: selenium in c:\\users\\lenovo\\anaconda3\\lib\\site-packages (3.141.0)\n",
      "Requirement already satisfied: urllib3 in c:\\users\\lenovo\\anaconda3\\lib\\site-packages (from selenium) (1.25.11)\n",
      "Requirement already satisfied: webdriver-manager in c:\\users\\lenovo\\anaconda3\\lib\\site-packages (3.4.2)\n",
      "Requirement already satisfied: configparser in c:\\users\\lenovo\\anaconda3\\lib\\site-packages (from webdriver-manager) (5.0.2)\n",
      "Requirement already satisfied: requests in c:\\users\\lenovo\\anaconda3\\lib\\site-packages (from webdriver-manager) (2.24.0)\n",
      "Requirement already satisfied: crayons in c:\\users\\lenovo\\anaconda3\\lib\\site-packages (from webdriver-manager) (0.4.0)\n",
      "Requirement already satisfied: idna<3,>=2.5 in c:\\users\\lenovo\\anaconda3\\lib\\site-packages (from requests->webdriver-manager) (2.10)\n",
      "Requirement already satisfied: chardet<4,>=3.0.2 in c:\\users\\lenovo\\anaconda3\\lib\\site-packages (from requests->webdriver-manager) (3.0.4)\n",
      "Requirement already satisfied: urllib3!=1.25.0,!=1.25.1,<1.26,>=1.21.1 in c:\\users\\lenovo\\anaconda3\\lib\\site-packages (from requests->webdriver-manager) (1.25.11)\n",
      "Requirement already satisfied: certifi>=2017.4.17 in c:\\users\\lenovo\\anaconda3\\lib\\site-packages (from requests->webdriver-manager) (2020.6.20)\n",
      "Requirement already satisfied: colorama in c:\\users\\lenovo\\anaconda3\\lib\\site-packages (from crayons->webdriver-manager) (0.4.4)\n"
     ]
    }
   ],
   "source": [
    "!pip install selenium\n",
    "!pip install webdriver-manager"
   ]
  },
  {
   "cell_type": "code",
   "execution_count": 1,
   "metadata": {},
   "outputs": [],
   "source": [
    "import BASE\n",
    "from BASE import BP\n",
    "import xlsxwriter;\n",
    "import openpyxl\n",
    "import pandas as pd"
   ]
  },
  {
   "cell_type": "markdown",
   "metadata": {},
   "source": [
    "Para el gob nacional y local los recursos determinados se desglosan por rubro "
   ]
  },
  {
   "cell_type": "code",
   "execution_count": 2,
   "metadata": {},
   "outputs": [],
   "source": [
    "gobiernos = ['E','M','R']"
   ]
  },
  {
   "cell_type": "code",
   "execution_count": 10,
   "metadata": {},
   "outputs": [
    {
     "name": "stderr",
     "output_type": "stream",
     "text": [
      "\n",
      "\n",
      "====== WebDriver manager ======\n",
      "Current google-chrome version is 96.0.4664\n",
      "Get LATEST driver version for 96.0.4664\n",
      "Driver [C:\\Users\\LENOVO\\.wdm\\drivers\\chromedriver\\win32\\96.0.4664.45\\chromedriver.exe] found in cache\n"
     ]
    },
    {
     "name": "stdout",
     "output_type": "stream",
     "text": [
      "Listo! Has ingresado a la consulta\n",
      "Listo! Seleccionaste el año\n",
      "E\n",
      "Para este año no se cuenta con la Fuente \n",
      "Para este año no se cuenta con el rubro \n",
      "M\n",
      "Para este año no se cuenta con la Fuente \n",
      "Para este año no se cuenta con el rubro \n",
      "R\n",
      "Para este año no se cuenta con la Fuente \n",
      "Has cerrado sesión\n"
     ]
    }
   ],
   "source": [
    "bp = BP()\n",
    "bp.AÑO(2021)\n",
    "for x in gobiernos:\n",
    "    bp.GOBIERNO(x)\n",
    "    print(x)\n",
    "    bp.FUENTE()\n",
    "    z = bp.indices()\n",
    "    for a in z: \n",
    "        bp.FUENTE(a)\n",
    "        if a == z[0]:\n",
    "            df = bp.GENERICA('TODO_A','S')\n",
    "        elif a != z[0] and a != z[4]:\n",
    "            df_1 = bp.GENERICA('TODO_A','S')\n",
    "            df = df.append(df_1)\n",
    "        elif a == '5' and x == 'R':\n",
    "            df_2 = bp.GENERICA('TODO_A','S')\n",
    "            df = df.append(df_2)\n",
    "        elif a == '5' and x!= 'R':\n",
    "            bp.RUBRO()\n",
    "            j = bp.indices()\n",
    "            for y in j:\n",
    "                bp.RUBRO(y)\n",
    "                df_2 = bp.GENERICA('TODO_A','S')\n",
    "                df = df.append(df_2)\n",
    "                bp.retroceder()\n",
    "            bp.retroceder()\n",
    "        bp.retroceder()\n",
    "    if x == 'E':\n",
    "        datos = df\n",
    "        datos['Generica'] = 'GN.' + datos['Generica'].astype(str)\n",
    "    elif x == 'M':\n",
    "        datos_2 = df \n",
    "        datos_2['Generica'] = 'GL.' + datos_2['Generica'].astype(str)\n",
    "        datos =datos.append(datos_2)\n",
    "    elif x == 'R':\n",
    "        datos_3 = df \n",
    "        datos_3['Generica'] = 'GR.' + datos_3['Generica'].astype(str)\n",
    "        datos =datos.append(datos_3)\n",
    "            \n",
    "bp.CERRAR()"
   ]
  },
  {
   "cell_type": "code",
   "execution_count": 11,
   "metadata": {},
   "outputs": [
    {
     "data": {
      "text/html": [
       "<div>\n",
       "<style scoped>\n",
       "    .dataframe tbody tr th:only-of-type {\n",
       "        vertical-align: middle;\n",
       "    }\n",
       "\n",
       "    .dataframe tbody tr th {\n",
       "        vertical-align: top;\n",
       "    }\n",
       "\n",
       "    .dataframe thead th {\n",
       "        text-align: right;\n",
       "    }\n",
       "</style>\n",
       "<table border=\"1\" class=\"dataframe\">\n",
       "  <thead>\n",
       "    <tr style=\"text-align: right;\">\n",
       "      <th></th>\n",
       "      <th>Generica</th>\n",
       "      <th>PIA_2021</th>\n",
       "      <th>PIM_2021</th>\n",
       "      <th>DEV_2021</th>\n",
       "      <th>GIR_2021</th>\n",
       "    </tr>\n",
       "  </thead>\n",
       "  <tbody>\n",
       "    <tr>\n",
       "      <th>0</th>\n",
       "      <td>GN.FF1.GE5-20</td>\n",
       "      <td>5576.361667</td>\n",
       "      <td>392.019108</td>\n",
       "      <td>0.000000</td>\n",
       "      <td>0.000000</td>\n",
       "    </tr>\n",
       "    <tr>\n",
       "      <th>1</th>\n",
       "      <td>GN.FF1.GE5-21</td>\n",
       "      <td>25776.793642</td>\n",
       "      <td>24753.784148</td>\n",
       "      <td>23601.398087</td>\n",
       "      <td>23233.368120</td>\n",
       "    </tr>\n",
       "    <tr>\n",
       "      <th>2</th>\n",
       "      <td>GN.FF1.GE5-22</td>\n",
       "      <td>4736.200531</td>\n",
       "      <td>5022.152825</td>\n",
       "      <td>4743.046269</td>\n",
       "      <td>4716.743396</td>\n",
       "    </tr>\n",
       "    <tr>\n",
       "      <th>3</th>\n",
       "      <td>GN.FF1.GE5-23</td>\n",
       "      <td>19042.761789</td>\n",
       "      <td>20605.026046</td>\n",
       "      <td>17397.108188</td>\n",
       "      <td>17090.200064</td>\n",
       "    </tr>\n",
       "    <tr>\n",
       "      <th>4</th>\n",
       "      <td>GN.FF1.GE5-24</td>\n",
       "      <td>3662.567961</td>\n",
       "      <td>5379.101368</td>\n",
       "      <td>4162.459316</td>\n",
       "      <td>4162.195265</td>\n",
       "    </tr>\n",
       "    <tr>\n",
       "      <th>...</th>\n",
       "      <td>...</td>\n",
       "      <td>...</td>\n",
       "      <td>...</td>\n",
       "      <td>...</td>\n",
       "      <td>...</td>\n",
       "    </tr>\n",
       "    <tr>\n",
       "      <th>5</th>\n",
       "      <td>GR.FF5.GE6-24</td>\n",
       "      <td>0.000000</td>\n",
       "      <td>236.045211</td>\n",
       "      <td>235.489630</td>\n",
       "      <td>235.489630</td>\n",
       "    </tr>\n",
       "    <tr>\n",
       "      <th>6</th>\n",
       "      <td>GR.FF5.GE6-25</td>\n",
       "      <td>5.190163</td>\n",
       "      <td>4.590163</td>\n",
       "      <td>1.912185</td>\n",
       "      <td>1.655267</td>\n",
       "    </tr>\n",
       "    <tr>\n",
       "      <th>7</th>\n",
       "      <td>GR.FF5.GE6-26</td>\n",
       "      <td>1665.599826</td>\n",
       "      <td>2854.991106</td>\n",
       "      <td>2041.028357</td>\n",
       "      <td>1886.424643</td>\n",
       "    </tr>\n",
       "    <tr>\n",
       "      <th>8</th>\n",
       "      <td>GR.FF5.GE6-27</td>\n",
       "      <td>0.000000</td>\n",
       "      <td>3.974632</td>\n",
       "      <td>2.899500</td>\n",
       "      <td>0.000000</td>\n",
       "    </tr>\n",
       "    <tr>\n",
       "      <th>9</th>\n",
       "      <td>GR.FF5.GE7-28</td>\n",
       "      <td>321.094059</td>\n",
       "      <td>344.165970</td>\n",
       "      <td>268.727471</td>\n",
       "      <td>246.403108</td>\n",
       "    </tr>\n",
       "  </tbody>\n",
       "</table>\n",
       "<p>143 rows × 5 columns</p>\n",
       "</div>"
      ],
      "text/plain": [
       "         Generica      PIA_2021      PIM_2021      DEV_2021      GIR_2021\n",
       "0   GN.FF1.GE5-20   5576.361667    392.019108      0.000000      0.000000\n",
       "1   GN.FF1.GE5-21  25776.793642  24753.784148  23601.398087  23233.368120\n",
       "2   GN.FF1.GE5-22   4736.200531   5022.152825   4743.046269   4716.743396\n",
       "3   GN.FF1.GE5-23  19042.761789  20605.026046  17397.108188  17090.200064\n",
       "4   GN.FF1.GE5-24   3662.567961   5379.101368   4162.459316   4162.195265\n",
       "..            ...           ...           ...           ...           ...\n",
       "5   GR.FF5.GE6-24      0.000000    236.045211    235.489630    235.489630\n",
       "6   GR.FF5.GE6-25      5.190163      4.590163      1.912185      1.655267\n",
       "7   GR.FF5.GE6-26   1665.599826   2854.991106   2041.028357   1886.424643\n",
       "8   GR.FF5.GE6-27      0.000000      3.974632      2.899500      0.000000\n",
       "9   GR.FF5.GE7-28    321.094059    344.165970    268.727471    246.403108\n",
       "\n",
       "[143 rows x 5 columns]"
      ]
     },
     "execution_count": 11,
     "metadata": {},
     "output_type": "execute_result"
    }
   ],
   "source": [
    "datos"
   ]
  },
  {
   "cell_type": "code",
   "execution_count": 12,
   "metadata": {},
   "outputs": [],
   "source": [
    "def write_excel(filename, sheetname, dataframe):\n",
    "    with pd.ExcelWriter(filename, engine = 'openpyxl', mode = 'a') as writer:\n",
    "        workBook = writer.book\n",
    "    try:\n",
    "        workBook.remove(workBook[sheetname])\n",
    "    except:\n",
    "       print(\"Worksheet does not exist\")\n",
    "    finally:\n",
    "        dataframe.to_excel(writer, sheet_name = sheetname, index = False)\n",
    "        writer.save()"
   ]
  },
  {
   "cell_type": "code",
   "execution_count": 13,
   "metadata": {},
   "outputs": [],
   "source": [
    "write_excel('../Anulaciones/base_anulaciones.xlsx','Actualizar',datos)"
   ]
  },
  {
   "cell_type": "code",
   "execution_count": null,
   "metadata": {},
   "outputs": [],
   "source": []
  }
 ],
 "metadata": {
  "kernelspec": {
   "display_name": "Python 3",
   "language": "python",
   "name": "python3"
  },
  "language_info": {
   "codemirror_mode": {
    "name": "ipython",
    "version": 3
   },
   "file_extension": ".py",
   "mimetype": "text/x-python",
   "name": "python",
   "nbconvert_exporter": "python",
   "pygments_lexer": "ipython3",
   "version": "3.8.5"
  }
 },
 "nbformat": 4,
 "nbformat_minor": 4
}
